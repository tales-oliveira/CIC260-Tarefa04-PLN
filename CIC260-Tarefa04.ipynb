{
  "nbformat": 4,
  "nbformat_minor": 5,
  "metadata": {
    "orig_nbformat": 4,
    "language_info": {
      "name": "python",
      "version": "3.7.8",
      "mimetype": "text/x-python",
      "codemirror_mode": {
        "name": "ipython",
        "version": 3
      },
      "pygments_lexer": "ipython3",
      "nbconvert_exporter": "python",
      "file_extension": ".py"
    },
    "kernelspec": {
      "name": "python3",
      "display_name": "Python 3",
      "language": "python"
    },
    "colab": {
      "name": "CIC260-Tarefa04.ipynb",
      "provenance": []
    }
  },
  "cells": [
    {
      "cell_type": "markdown",
      "metadata": {
        "id": "qWTb8ygJSd1I"
      },
      "source": [
        "##CIC260 - Inteligência Artificial\n",
        "\n",
        "###Autor: Tales Oliveira"
      ],
      "id": "qWTb8ygJSd1I"
    },
    {
      "cell_type": "code",
      "metadata": {
        "tags": [],
        "id": "6bdd8d92-b34c-4cba-a7bd-e2478f95caf7",
        "outputId": "45b31f65-8fc6-43f0-d347-75402d028238",
        "colab": {
          "base_uri": "https://localhost:8080/"
        }
      },
      "source": [
        "# Importando a biblioteca nltk e obtendo todos os seus recursos\n",
        "import nltk\n",
        "nltk.download('all')\n",
        "from nltk import word_tokenize # Utilizado para separar um texto ou sentença em palavras"
      ],
      "id": "6bdd8d92-b34c-4cba-a7bd-e2478f95caf7",
      "execution_count": 1,
      "outputs": [
        {
          "output_type": "stream",
          "name": "stdout",
          "text": [
            "[nltk_data] Downloading collection 'all'\n",
            "[nltk_data]    | \n",
            "[nltk_data]    | Downloading package abc to /root/nltk_data...\n",
            "[nltk_data]    |   Unzipping corpora/abc.zip.\n",
            "[nltk_data]    | Downloading package alpino to /root/nltk_data...\n",
            "[nltk_data]    |   Unzipping corpora/alpino.zip.\n",
            "[nltk_data]    | Downloading package biocreative_ppi to\n",
            "[nltk_data]    |     /root/nltk_data...\n",
            "[nltk_data]    |   Unzipping corpora/biocreative_ppi.zip.\n",
            "[nltk_data]    | Downloading package brown to /root/nltk_data...\n",
            "[nltk_data]    |   Unzipping corpora/brown.zip.\n",
            "[nltk_data]    | Downloading package brown_tei to /root/nltk_data...\n",
            "[nltk_data]    |   Unzipping corpora/brown_tei.zip.\n",
            "[nltk_data]    | Downloading package cess_cat to /root/nltk_data...\n",
            "[nltk_data]    |   Unzipping corpora/cess_cat.zip.\n",
            "[nltk_data]    | Downloading package cess_esp to /root/nltk_data...\n",
            "[nltk_data]    |   Unzipping corpora/cess_esp.zip.\n",
            "[nltk_data]    | Downloading package chat80 to /root/nltk_data...\n",
            "[nltk_data]    |   Unzipping corpora/chat80.zip.\n",
            "[nltk_data]    | Downloading package city_database to\n",
            "[nltk_data]    |     /root/nltk_data...\n",
            "[nltk_data]    |   Unzipping corpora/city_database.zip.\n",
            "[nltk_data]    | Downloading package cmudict to /root/nltk_data...\n",
            "[nltk_data]    |   Unzipping corpora/cmudict.zip.\n",
            "[nltk_data]    | Downloading package comparative_sentences to\n",
            "[nltk_data]    |     /root/nltk_data...\n",
            "[nltk_data]    |   Unzipping corpora/comparative_sentences.zip.\n",
            "[nltk_data]    | Downloading package comtrans to /root/nltk_data...\n",
            "[nltk_data]    | Downloading package conll2000 to /root/nltk_data...\n",
            "[nltk_data]    |   Unzipping corpora/conll2000.zip.\n",
            "[nltk_data]    | Downloading package conll2002 to /root/nltk_data...\n",
            "[nltk_data]    |   Unzipping corpora/conll2002.zip.\n",
            "[nltk_data]    | Downloading package conll2007 to /root/nltk_data...\n",
            "[nltk_data]    | Downloading package crubadan to /root/nltk_data...\n",
            "[nltk_data]    |   Unzipping corpora/crubadan.zip.\n",
            "[nltk_data]    | Downloading package dependency_treebank to\n",
            "[nltk_data]    |     /root/nltk_data...\n",
            "[nltk_data]    |   Unzipping corpora/dependency_treebank.zip.\n",
            "[nltk_data]    | Downloading package dolch to /root/nltk_data...\n",
            "[nltk_data]    |   Unzipping corpora/dolch.zip.\n",
            "[nltk_data]    | Downloading package europarl_raw to\n",
            "[nltk_data]    |     /root/nltk_data...\n",
            "[nltk_data]    |   Unzipping corpora/europarl_raw.zip.\n",
            "[nltk_data]    | Downloading package floresta to /root/nltk_data...\n",
            "[nltk_data]    |   Unzipping corpora/floresta.zip.\n",
            "[nltk_data]    | Downloading package framenet_v15 to\n",
            "[nltk_data]    |     /root/nltk_data...\n",
            "[nltk_data]    |   Unzipping corpora/framenet_v15.zip.\n",
            "[nltk_data]    | Downloading package framenet_v17 to\n",
            "[nltk_data]    |     /root/nltk_data...\n",
            "[nltk_data]    |   Unzipping corpora/framenet_v17.zip.\n",
            "[nltk_data]    | Downloading package gazetteers to /root/nltk_data...\n",
            "[nltk_data]    |   Unzipping corpora/gazetteers.zip.\n",
            "[nltk_data]    | Downloading package genesis to /root/nltk_data...\n",
            "[nltk_data]    |   Unzipping corpora/genesis.zip.\n",
            "[nltk_data]    | Downloading package gutenberg to /root/nltk_data...\n",
            "[nltk_data]    |   Unzipping corpora/gutenberg.zip.\n",
            "[nltk_data]    | Downloading package ieer to /root/nltk_data...\n",
            "[nltk_data]    |   Unzipping corpora/ieer.zip.\n",
            "[nltk_data]    | Downloading package inaugural to /root/nltk_data...\n",
            "[nltk_data]    |   Unzipping corpora/inaugural.zip.\n",
            "[nltk_data]    | Downloading package indian to /root/nltk_data...\n",
            "[nltk_data]    |   Unzipping corpora/indian.zip.\n",
            "[nltk_data]    | Downloading package jeita to /root/nltk_data...\n",
            "[nltk_data]    | Downloading package kimmo to /root/nltk_data...\n",
            "[nltk_data]    |   Unzipping corpora/kimmo.zip.\n",
            "[nltk_data]    | Downloading package knbc to /root/nltk_data...\n",
            "[nltk_data]    | Downloading package lin_thesaurus to\n",
            "[nltk_data]    |     /root/nltk_data...\n",
            "[nltk_data]    |   Unzipping corpora/lin_thesaurus.zip.\n",
            "[nltk_data]    | Downloading package mac_morpho to /root/nltk_data...\n",
            "[nltk_data]    |   Unzipping corpora/mac_morpho.zip.\n",
            "[nltk_data]    | Downloading package machado to /root/nltk_data...\n",
            "[nltk_data]    | Downloading package masc_tagged to /root/nltk_data...\n",
            "[nltk_data]    | Downloading package moses_sample to\n",
            "[nltk_data]    |     /root/nltk_data...\n",
            "[nltk_data]    |   Unzipping models/moses_sample.zip.\n",
            "[nltk_data]    | Downloading package movie_reviews to\n",
            "[nltk_data]    |     /root/nltk_data...\n",
            "[nltk_data]    |   Unzipping corpora/movie_reviews.zip.\n",
            "[nltk_data]    | Downloading package names to /root/nltk_data...\n",
            "[nltk_data]    |   Unzipping corpora/names.zip.\n",
            "[nltk_data]    | Downloading package nombank.1.0 to /root/nltk_data...\n",
            "[nltk_data]    | Downloading package nps_chat to /root/nltk_data...\n",
            "[nltk_data]    |   Unzipping corpora/nps_chat.zip.\n",
            "[nltk_data]    | Downloading package omw to /root/nltk_data...\n",
            "[nltk_data]    |   Unzipping corpora/omw.zip.\n",
            "[nltk_data]    | Downloading package opinion_lexicon to\n",
            "[nltk_data]    |     /root/nltk_data...\n",
            "[nltk_data]    |   Unzipping corpora/opinion_lexicon.zip.\n",
            "[nltk_data]    | Downloading package paradigms to /root/nltk_data...\n",
            "[nltk_data]    |   Unzipping corpora/paradigms.zip.\n",
            "[nltk_data]    | Downloading package pil to /root/nltk_data...\n",
            "[nltk_data]    |   Unzipping corpora/pil.zip.\n",
            "[nltk_data]    | Downloading package pl196x to /root/nltk_data...\n",
            "[nltk_data]    |   Unzipping corpora/pl196x.zip.\n",
            "[nltk_data]    | Downloading package ppattach to /root/nltk_data...\n",
            "[nltk_data]    |   Unzipping corpora/ppattach.zip.\n",
            "[nltk_data]    | Downloading package problem_reports to\n",
            "[nltk_data]    |     /root/nltk_data...\n",
            "[nltk_data]    |   Unzipping corpora/problem_reports.zip.\n",
            "[nltk_data]    | Downloading package propbank to /root/nltk_data...\n",
            "[nltk_data]    | Downloading package ptb to /root/nltk_data...\n",
            "[nltk_data]    |   Unzipping corpora/ptb.zip.\n",
            "[nltk_data]    | Downloading package product_reviews_1 to\n",
            "[nltk_data]    |     /root/nltk_data...\n",
            "[nltk_data]    |   Unzipping corpora/product_reviews_1.zip.\n",
            "[nltk_data]    | Downloading package product_reviews_2 to\n",
            "[nltk_data]    |     /root/nltk_data...\n",
            "[nltk_data]    |   Unzipping corpora/product_reviews_2.zip.\n",
            "[nltk_data]    | Downloading package pros_cons to /root/nltk_data...\n",
            "[nltk_data]    |   Unzipping corpora/pros_cons.zip.\n",
            "[nltk_data]    | Downloading package qc to /root/nltk_data...\n",
            "[nltk_data]    |   Unzipping corpora/qc.zip.\n",
            "[nltk_data]    | Downloading package reuters to /root/nltk_data...\n",
            "[nltk_data]    | Downloading package rte to /root/nltk_data...\n",
            "[nltk_data]    |   Unzipping corpora/rte.zip.\n",
            "[nltk_data]    | Downloading package semcor to /root/nltk_data...\n",
            "[nltk_data]    | Downloading package senseval to /root/nltk_data...\n",
            "[nltk_data]    |   Unzipping corpora/senseval.zip.\n",
            "[nltk_data]    | Downloading package sentiwordnet to\n",
            "[nltk_data]    |     /root/nltk_data...\n",
            "[nltk_data]    |   Unzipping corpora/sentiwordnet.zip.\n",
            "[nltk_data]    | Downloading package sentence_polarity to\n",
            "[nltk_data]    |     /root/nltk_data...\n",
            "[nltk_data]    |   Unzipping corpora/sentence_polarity.zip.\n",
            "[nltk_data]    | Downloading package shakespeare to /root/nltk_data...\n",
            "[nltk_data]    |   Unzipping corpora/shakespeare.zip.\n",
            "[nltk_data]    | Downloading package sinica_treebank to\n",
            "[nltk_data]    |     /root/nltk_data...\n",
            "[nltk_data]    |   Unzipping corpora/sinica_treebank.zip.\n",
            "[nltk_data]    | Downloading package smultron to /root/nltk_data...\n",
            "[nltk_data]    |   Unzipping corpora/smultron.zip.\n",
            "[nltk_data]    | Downloading package state_union to /root/nltk_data...\n",
            "[nltk_data]    |   Unzipping corpora/state_union.zip.\n",
            "[nltk_data]    | Downloading package stopwords to /root/nltk_data...\n",
            "[nltk_data]    |   Unzipping corpora/stopwords.zip.\n",
            "[nltk_data]    | Downloading package subjectivity to\n",
            "[nltk_data]    |     /root/nltk_data...\n",
            "[nltk_data]    |   Unzipping corpora/subjectivity.zip.\n",
            "[nltk_data]    | Downloading package swadesh to /root/nltk_data...\n",
            "[nltk_data]    |   Unzipping corpora/swadesh.zip.\n",
            "[nltk_data]    | Downloading package switchboard to /root/nltk_data...\n",
            "[nltk_data]    |   Unzipping corpora/switchboard.zip.\n",
            "[nltk_data]    | Downloading package timit to /root/nltk_data...\n",
            "[nltk_data]    |   Unzipping corpora/timit.zip.\n",
            "[nltk_data]    | Downloading package toolbox to /root/nltk_data...\n",
            "[nltk_data]    |   Unzipping corpora/toolbox.zip.\n",
            "[nltk_data]    | Downloading package treebank to /root/nltk_data...\n",
            "[nltk_data]    |   Unzipping corpora/treebank.zip.\n",
            "[nltk_data]    | Downloading package twitter_samples to\n",
            "[nltk_data]    |     /root/nltk_data...\n",
            "[nltk_data]    |   Unzipping corpora/twitter_samples.zip.\n",
            "[nltk_data]    | Downloading package udhr to /root/nltk_data...\n",
            "[nltk_data]    |   Unzipping corpora/udhr.zip.\n",
            "[nltk_data]    | Downloading package udhr2 to /root/nltk_data...\n",
            "[nltk_data]    |   Unzipping corpora/udhr2.zip.\n",
            "[nltk_data]    | Downloading package unicode_samples to\n",
            "[nltk_data]    |     /root/nltk_data...\n",
            "[nltk_data]    |   Unzipping corpora/unicode_samples.zip.\n",
            "[nltk_data]    | Downloading package universal_treebanks_v20 to\n",
            "[nltk_data]    |     /root/nltk_data...\n",
            "[nltk_data]    | Downloading package verbnet to /root/nltk_data...\n",
            "[nltk_data]    |   Unzipping corpora/verbnet.zip.\n",
            "[nltk_data]    | Downloading package verbnet3 to /root/nltk_data...\n",
            "[nltk_data]    |   Unzipping corpora/verbnet3.zip.\n",
            "[nltk_data]    | Downloading package webtext to /root/nltk_data...\n",
            "[nltk_data]    |   Unzipping corpora/webtext.zip.\n",
            "[nltk_data]    | Downloading package wordnet to /root/nltk_data...\n",
            "[nltk_data]    |   Unzipping corpora/wordnet.zip.\n",
            "[nltk_data]    | Downloading package wordnet31 to /root/nltk_data...\n",
            "[nltk_data]    |   Unzipping corpora/wordnet31.zip.\n",
            "[nltk_data]    | Downloading package wordnet_ic to /root/nltk_data...\n",
            "[nltk_data]    |   Unzipping corpora/wordnet_ic.zip.\n",
            "[nltk_data]    | Downloading package words to /root/nltk_data...\n",
            "[nltk_data]    |   Unzipping corpora/words.zip.\n",
            "[nltk_data]    | Downloading package ycoe to /root/nltk_data...\n",
            "[nltk_data]    |   Unzipping corpora/ycoe.zip.\n",
            "[nltk_data]    | Downloading package rslp to /root/nltk_data...\n",
            "[nltk_data]    |   Unzipping stemmers/rslp.zip.\n",
            "[nltk_data]    | Downloading package maxent_treebank_pos_tagger to\n",
            "[nltk_data]    |     /root/nltk_data...\n",
            "[nltk_data]    |   Unzipping taggers/maxent_treebank_pos_tagger.zip.\n",
            "[nltk_data]    | Downloading package universal_tagset to\n",
            "[nltk_data]    |     /root/nltk_data...\n",
            "[nltk_data]    |   Unzipping taggers/universal_tagset.zip.\n",
            "[nltk_data]    | Downloading package maxent_ne_chunker to\n",
            "[nltk_data]    |     /root/nltk_data...\n",
            "[nltk_data]    |   Unzipping chunkers/maxent_ne_chunker.zip.\n",
            "[nltk_data]    | Downloading package punkt to /root/nltk_data...\n",
            "[nltk_data]    |   Unzipping tokenizers/punkt.zip.\n",
            "[nltk_data]    | Downloading package book_grammars to\n",
            "[nltk_data]    |     /root/nltk_data...\n",
            "[nltk_data]    |   Unzipping grammars/book_grammars.zip.\n",
            "[nltk_data]    | Downloading package sample_grammars to\n",
            "[nltk_data]    |     /root/nltk_data...\n",
            "[nltk_data]    |   Unzipping grammars/sample_grammars.zip.\n",
            "[nltk_data]    | Downloading package spanish_grammars to\n",
            "[nltk_data]    |     /root/nltk_data...\n",
            "[nltk_data]    |   Unzipping grammars/spanish_grammars.zip.\n",
            "[nltk_data]    | Downloading package basque_grammars to\n",
            "[nltk_data]    |     /root/nltk_data...\n",
            "[nltk_data]    |   Unzipping grammars/basque_grammars.zip.\n",
            "[nltk_data]    | Downloading package large_grammars to\n",
            "[nltk_data]    |     /root/nltk_data...\n",
            "[nltk_data]    |   Unzipping grammars/large_grammars.zip.\n",
            "[nltk_data]    | Downloading package tagsets to /root/nltk_data...\n",
            "[nltk_data]    |   Unzipping help/tagsets.zip.\n",
            "[nltk_data]    | Downloading package snowball_data to\n",
            "[nltk_data]    |     /root/nltk_data...\n",
            "[nltk_data]    | Downloading package bllip_wsj_no_aux to\n",
            "[nltk_data]    |     /root/nltk_data...\n",
            "[nltk_data]    |   Unzipping models/bllip_wsj_no_aux.zip.\n",
            "[nltk_data]    | Downloading package word2vec_sample to\n",
            "[nltk_data]    |     /root/nltk_data...\n",
            "[nltk_data]    |   Unzipping models/word2vec_sample.zip.\n",
            "[nltk_data]    | Downloading package panlex_swadesh to\n",
            "[nltk_data]    |     /root/nltk_data...\n",
            "[nltk_data]    | Downloading package mte_teip5 to /root/nltk_data...\n",
            "[nltk_data]    |   Unzipping corpora/mte_teip5.zip.\n",
            "[nltk_data]    | Downloading package averaged_perceptron_tagger to\n",
            "[nltk_data]    |     /root/nltk_data...\n",
            "[nltk_data]    |   Unzipping taggers/averaged_perceptron_tagger.zip.\n",
            "[nltk_data]    | Downloading package averaged_perceptron_tagger_ru to\n",
            "[nltk_data]    |     /root/nltk_data...\n",
            "[nltk_data]    |   Unzipping\n",
            "[nltk_data]    |       taggers/averaged_perceptron_tagger_ru.zip.\n",
            "[nltk_data]    | Downloading package perluniprops to\n",
            "[nltk_data]    |     /root/nltk_data...\n",
            "[nltk_data]    |   Unzipping misc/perluniprops.zip.\n",
            "[nltk_data]    | Downloading package nonbreaking_prefixes to\n",
            "[nltk_data]    |     /root/nltk_data...\n",
            "[nltk_data]    |   Unzipping corpora/nonbreaking_prefixes.zip.\n",
            "[nltk_data]    | Downloading package vader_lexicon to\n",
            "[nltk_data]    |     /root/nltk_data...\n",
            "[nltk_data]    | Downloading package porter_test to /root/nltk_data...\n",
            "[nltk_data]    |   Unzipping stemmers/porter_test.zip.\n",
            "[nltk_data]    | Downloading package wmt15_eval to /root/nltk_data...\n",
            "[nltk_data]    |   Unzipping models/wmt15_eval.zip.\n",
            "[nltk_data]    | Downloading package mwa_ppdb to /root/nltk_data...\n",
            "[nltk_data]    |   Unzipping misc/mwa_ppdb.zip.\n",
            "[nltk_data]    | \n",
            "[nltk_data]  Done downloading collection all\n"
          ]
        }
      ]
    },
    {
      "cell_type": "markdown",
      "metadata": {
        "id": "yAT6-efBas5z"
      },
      "source": [
        "=======================================================================================\n",
        "\n",
        "###Definindo as funções\n"
      ],
      "id": "yAT6-efBas5z"
    },
    {
      "cell_type": "code",
      "metadata": {
        "id": "AoGZyFqYAvbV"
      },
      "source": [
        "# Definindo a função para ler arquivo\n",
        "def ler(nome_arquivo):\n",
        "    arquivo = open(nome_arquivo, 'r', encoding='utf-8')\n",
        "    texto = arquivo.read()\n",
        "    arquivo.close()\n",
        "    return texto"
      ],
      "id": "AoGZyFqYAvbV",
      "execution_count": 2,
      "outputs": []
    },
    {
      "cell_type": "code",
      "metadata": {
        "id": "SbhY4NRIakys"
      },
      "source": [
        "# Definindo a função para \"limpar\" textos\n",
        "def limpaTexto(texto):\n",
        "    excluir = '.,:.;?!\"`()[]{}\\/|#$%^&*'\n",
        "\n",
        "    # Para cada caractere do texto, são removidos os que estão presentes na lista \"excluir\". Todas as letras maiúsculas passam para minúsculas.\n",
        "    auxtexto = [x.strip(excluir).lower() for x in texto] \n",
        "\n",
        "    # Retorna o texto sem os caracteres especiais\n",
        "    return [x for x in auxtexto if x.isalpha() or '-' in x]"
      ],
      "id": "SbhY4NRIakys",
      "execution_count": 3,
      "outputs": []
    },
    {
      "cell_type": "code",
      "metadata": {
        "id": "U9VbNTN7FEGn"
      },
      "source": [
        "# Definindo a função para \"limpar\" ainda mais um texto, removendo palavras consideradas vazias,\n",
        "# como artigos, advérbios, preposições, conjunções e pronomes\n",
        "palavrasVazias = nltk.corpus.stopwords.words('portuguese')\n",
        "\n",
        "def removePalavrasVazias(palavras):\n",
        "    # A lista de palavras é verificada e se alguma palavra vazia definida em \"palavrasVazias\" for encontrada, ela será removida.\n",
        "    return [palavra for palavra in palavras if palavra not in palavrasVazias]"
      ],
      "id": "U9VbNTN7FEGn",
      "execution_count": 4,
      "outputs": []
    },
    {
      "cell_type": "code",
      "metadata": {
        "id": "BlDA0IRQUWDW"
      },
      "source": [
        "from collections import defaultdict # Importar um dicionário\n",
        "\n",
        "# Função para retornar palavras e a quantidade de vezes que aparecem no texto\n",
        "def numeroOcorrencias(listaPalavras):\n",
        "    dicionario = defaultdict(int)\n",
        "    for p in listaPalavras:\n",
        "        dicionario[p] += 1\n",
        "    return dicionario"
      ],
      "id": "BlDA0IRQUWDW",
      "execution_count": 5,
      "outputs": []
    },
    {
      "cell_type": "markdown",
      "metadata": {
        "id": "w8XPSf0_arQc"
      },
      "source": [
        "======================================================================================="
      ],
      "id": "w8XPSf0_arQc"
    },
    {
      "cell_type": "code",
      "metadata": {
        "id": "ZyEJHfsaCXDE"
      },
      "source": [
        "mpbc = ler('/marm05.txt') # Lendo a obra \"Memórias Póstumas de Brás Cubas\"\n",
        "dc = ler('/marm08_1.txt') # Lendo a obra \"Dom Casmurro\""
      ],
      "id": "ZyEJHfsaCXDE",
      "execution_count": 6,
      "outputs": []
    },
    {
      "cell_type": "markdown",
      "metadata": {
        "id": "noH9O8NKTmMS"
      },
      "source": [
        "Exibir a quantidade de caracteres na obra: Memórias Póstumas de Brás Cubas"
      ],
      "id": "noH9O8NKTmMS"
    },
    {
      "cell_type": "code",
      "metadata": {
        "id": "nATTlZnATlVl",
        "colab": {
          "base_uri": "https://localhost:8080/"
        },
        "outputId": "8a6dbc69-49e4-41b4-e561-7ee5e18934a2"
      },
      "source": [
        "print('Quantidade de caracteres:', len(mpbc)) # Memórias Póstumas de Brás Cubas"
      ],
      "id": "nATTlZnATlVl",
      "execution_count": 7,
      "outputs": [
        {
          "output_type": "stream",
          "name": "stdout",
          "text": [
            "Quantidade de caracteres: 355706\n"
          ]
        }
      ]
    },
    {
      "cell_type": "markdown",
      "metadata": {
        "id": "cGz_TUoQbYIA"
      },
      "source": [
        "Separando os textos das obras em duas listas de palavras"
      ],
      "id": "cGz_TUoQbYIA"
    },
    {
      "cell_type": "code",
      "metadata": {
        "id": "O198FGagBLrE"
      },
      "source": [
        "palavrasMPBC = word_tokenize(mpbc) # Memórias Póstumas de Brás Cubas\n",
        "palavrasDC = word_tokenize(dc) # Dom Casmurro"
      ],
      "id": "O198FGagBLrE",
      "execution_count": 8,
      "outputs": []
    },
    {
      "cell_type": "markdown",
      "metadata": {
        "id": "_fV-x4VMbi12"
      },
      "source": [
        "Comparando a quantidade de palavras antes e depois de limpar o texto"
      ],
      "id": "_fV-x4VMbi12"
    },
    {
      "cell_type": "code",
      "metadata": {
        "id": "BdPN7gmh52cb",
        "colab": {
          "base_uri": "https://localhost:8080/"
        },
        "outputId": "f7714f7a-0a87-4a00-8570-68378f4d2a36"
      },
      "source": [
        "# Memórias Póstumas de Brás Cubas\n",
        "print('Quantidade de palavras antes da limpeza:', len(palavrasMPBC))\n",
        "palavrasMPBC = limpaTexto(palavrasMPBC)\n",
        "print('Quantidade de palavras depois da limpeza:', len(palavrasMPBC))\n",
        "palavrasLimpasMPBC = removePalavrasVazias(palavrasMPBC)\n",
        "print('Quantidade de palavras a remoção das vazias:', len(palavrasLimpasMPBC))\n",
        "\n",
        "# Dom Casmurro\n",
        "palavrasDC = limpaTexto(palavrasDC)\n",
        "palavrasLimpasDC = removePalavrasVazias(palavrasDC)"
      ],
      "id": "BdPN7gmh52cb",
      "execution_count": 9,
      "outputs": [
        {
          "output_type": "stream",
          "name": "stdout",
          "text": [
            "Quantidade de palavras antes da limpeza: 74149\n",
            "Quantidade de palavras depois da limpeza: 60262\n",
            "Quantidade de palavras a remoção das vazias: 32944\n"
          ]
        }
      ]
    },
    {
      "cell_type": "markdown",
      "metadata": {
        "id": "U25V6G-TOBco"
      },
      "source": [
        "Obtendo o vocabulário do texto para calcular a riqueza lexical do texto (quantidade de palavras distintas / número de palavras)"
      ],
      "id": "U25V6G-TOBco"
    },
    {
      "cell_type": "code",
      "metadata": {
        "colab": {
          "base_uri": "https://localhost:8080/"
        },
        "id": "bDwMVoiFN_oa",
        "outputId": "bba7e22f-94c1-4465-88f8-af19964b309e"
      },
      "source": [
        "# Memórias Póstumas de Brás Cubas\n",
        "vocabularioMPBC = set(palavrasLimpasMPBC)\n",
        "print(\"Vocabulário com a remoção de palavras vazias:\", len(vocabularioMPBC))\n",
        "\n",
        "riquezaLexicalMPBC = len(vocabularioMPBC) / len(palavrasMPBC)\n",
        "print(\"Riqueza lexical do texto:\", riquezaLexicalMPBC)"
      ],
      "id": "bDwMVoiFN_oa",
      "execution_count": 10,
      "outputs": [
        {
          "output_type": "stream",
          "name": "stdout",
          "text": [
            "Vocabulário com a remoção de palavras vazias: 10262\n",
            "Riqueza lexical do texto: 0.17028973482459925\n"
          ]
        }
      ]
    },
    {
      "cell_type": "markdown",
      "metadata": {
        "id": "2vKX1YEjVgrS"
      },
      "source": [
        "Comparar as 20 palavras mais frequentes nas obras: Memórias Póstumas de Brás Cubas e Dom Casmurro"
      ],
      "id": "2vKX1YEjVgrS"
    },
    {
      "cell_type": "code",
      "metadata": {
        "id": "yEVJdLzmVsT-",
        "outputId": "ae24e513-be3a-48b2-88d4-fd868ec8a49a",
        "colab": {
          "base_uri": "https://localhost:8080/"
        }
      },
      "source": [
        "# Memórias Póstumas de Brás Cubas\n",
        "pfrequentesMPBC = numeroOcorrencias(palavrasLimpasMPBC)\n",
        "maisFrequentesMPBC = sorted(pfrequentesMPBC.items(), key=lambda tupla:tupla[1], reverse=True)[:20]\n",
        "print('Palavra -> Frequência')\n",
        "print('---------------------')\n",
        "for palavra, n in maisFrequentesMPBC:\n",
        "    print(palavra, ' -> ', n)"
      ],
      "id": "yEVJdLzmVsT-",
      "execution_count": 11,
      "outputs": [
        {
          "output_type": "stream",
          "name": "stdout",
          "text": [
            "Palavra -> Frequência\n",
            "---------------------\n",
            "capítulo  ->  209\n",
            "virgília  ->  202\n",
            "coisa  ->  148\n",
            "olhos  ->  138\n",
            "disse  ->  130\n",
            "nada  ->  126\n",
            "outro  ->  124\n",
            "vida  ->  118\n",
            "outra  ->  116\n",
            "tempo  ->  114\n",
            "porque  ->  113\n",
            "menos  ->  112\n",
            "homem  ->  108\n",
            "casa  ->  107\n",
            "mim  ->  100\n",
            "tudo  ->  99\n",
            "pouco  ->  98\n",
            "ser  ->  97\n",
            "então  ->  96\n",
            "tão  ->  95\n"
          ]
        }
      ]
    },
    {
      "cell_type": "code",
      "metadata": {
        "id": "OSCVIJuGcmfs",
        "colab": {
          "base_uri": "https://localhost:8080/"
        },
        "outputId": "d689dea3-0f31-466d-b42f-5213da3d5d88"
      },
      "source": [
        "# Dom Casmurro\n",
        "pfrequentesDC = numeroOcorrencias(palavrasLimpasDC)\n",
        "maisFrequentesDC = sorted(pfrequentesDC.items(), key=lambda tupla:tupla[1], reverse=True)[:20]\n",
        "print('Palavra -> Frequência')\n",
        "print('---------------------')\n",
        "for palavra, n in maisFrequentesDC:\n",
        "    print(palavra, ' -> ', n)"
      ],
      "id": "OSCVIJuGcmfs",
      "execution_count": 12,
      "outputs": [
        {
          "output_type": "stream",
          "name": "stdout",
          "text": [
            "Palavra -> Frequência\n",
            "---------------------\n",
            "capitu  ->  341\n",
            "mãe  ->  228\n",
            "dias  ->  192\n",
            "tudo  ->  189\n",
            "capítulo  ->  188\n",
            "casa  ->  169\n",
            "ser  ->  167\n",
            "olhos  ->  163\n",
            "mim  ->  162\n",
            "josé  ->  159\n",
            "assim  ->  158\n",
            "vez  ->  147\n",
            "agora  ->  145\n",
            "ainda  ->  141\n",
            "outra  ->  138\n",
            "nada  ->  135\n",
            "disse  ->  123\n",
            "tão  ->  122\n",
            "tempo  ->  120\n",
            "padre  ->  112\n"
          ]
        }
      ]
    }
  ]
}