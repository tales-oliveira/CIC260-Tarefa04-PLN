{
  "nbformat": 4,
  "nbformat_minor": 5,
  "metadata": {
    "orig_nbformat": 4,
    "language_info": {
      "name": "python",
      "version": "3.7.8",
      "mimetype": "text/x-python",
      "codemirror_mode": {
        "name": "ipython",
        "version": 3
      },
      "pygments_lexer": "ipython3",
      "nbconvert_exporter": "python",
      "file_extension": ".py"
    },
    "kernelspec": {
      "name": "python3",
      "display_name": "Python 3",
      "language": "python"
    },
    "colab": {
      "name": "CIC260-Tarefa04.ipynb",
      "provenance": []
    }
  },
  "cells": [
    {
      "cell_type": "markdown",
      "metadata": {
        "id": "qWTb8ygJSd1I"
      },
      "source": [
        "##CIC260 - Inteligência Artificial\n",
        "\n",
        "###Autor: Tales Oliveira"
      ],
      "id": "qWTb8ygJSd1I"
    },
    {
      "cell_type": "code",
      "metadata": {
        "tags": [],
        "id": "6bdd8d92-b34c-4cba-a7bd-e2478f95caf7"
      },
      "source": [
        "# Importando a biblioteca nltk e obtendo todos os seus recursos\n",
        "import nltk\n",
        "nltk.download('all')\n",
        "from nltk import word_tokenize # Utilizado para separar um texto ou sentença em palavras"
      ],
      "id": "6bdd8d92-b34c-4cba-a7bd-e2478f95caf7",
      "execution_count": null,
      "outputs": []
    },
    {
      "cell_type": "markdown",
      "metadata": {
        "id": "yAT6-efBas5z"
      },
      "source": [
        "=======================================================================================\n",
        "\n",
        "###Definindo as funções\n"
      ],
      "id": "yAT6-efBas5z"
    },
    {
      "cell_type": "code",
      "metadata": {
        "id": "AoGZyFqYAvbV"
      },
      "source": [
        "# Definindo a função para ler arquivo\n",
        "def ler(nome_arquivo):\n",
        "  arquivo = open(nome_arquivo, 'r', encoding='utf-8')\n",
        "  texto = arquivo.read()\n",
        "  arquivo.close()\n",
        "  return texto"
      ],
      "id": "AoGZyFqYAvbV",
      "execution_count": 66,
      "outputs": []
    },
    {
      "cell_type": "code",
      "metadata": {
        "id": "SbhY4NRIakys"
      },
      "source": [
        "# Definindo a função para \"limpar\" textos\n",
        "def limpaTexto(texto):\n",
        "  excluir = '.,:.;?!\"`()[]{}\\/|#$%^&*'\n",
        "  auxtexto = [x.strip(excluir) for x in texto]\n",
        "  return [x for x in auxtexto if x.isalpha() or '-' in x]"
      ],
      "id": "SbhY4NRIakys",
      "execution_count": null,
      "outputs": []
    },
    {
      "cell_type": "markdown",
      "metadata": {
        "id": "w8XPSf0_arQc"
      },
      "source": [
        "======================================================================================="
      ],
      "id": "w8XPSf0_arQc"
    },
    {
      "cell_type": "code",
      "metadata": {
        "id": "ZyEJHfsaCXDE"
      },
      "source": [
        "livro = ler('/marm05.txt') # Lendo a obra \"Memórias Póstumas de Brás Cubas\""
      ],
      "id": "ZyEJHfsaCXDE",
      "execution_count": 80,
      "outputs": []
    },
    {
      "cell_type": "markdown",
      "metadata": {
        "id": "noH9O8NKTmMS"
      },
      "source": [
        "Ler a quantidade de caracteres na obra \"Memórias Póstumas de Brás Cubas\""
      ],
      "id": "noH9O8NKTmMS"
    },
    {
      "cell_type": "code",
      "metadata": {
        "id": "nATTlZnATlVl"
      },
      "source": [
        "print('Quantidade de caracteres:', len(livro))"
      ],
      "id": "nATTlZnATlVl",
      "execution_count": null,
      "outputs": []
    },
    {
      "cell_type": "markdown",
      "metadata": {
        "id": "cGz_TUoQbYIA"
      },
      "source": [
        "Separando o texto em uma lista de palavras"
      ],
      "id": "cGz_TUoQbYIA"
    },
    {
      "cell_type": "code",
      "metadata": {
        "id": "O198FGagBLrE"
      },
      "source": [
        "palavras = word_tokenize(livro)"
      ],
      "id": "O198FGagBLrE",
      "execution_count": 82,
      "outputs": []
    },
    {
      "cell_type": "markdown",
      "metadata": {
        "id": "_fV-x4VMbi12"
      },
      "source": [
        "Comparando a quantidade de palavras antes e depois de limpar o texto"
      ],
      "id": "_fV-x4VMbi12"
    },
    {
      "cell_type": "code",
      "metadata": {
        "id": "BdPN7gmh52cb"
      },
      "source": [
        "print('Quantidade de palavras antes da limpeza:', len(palavras))\n",
        "palavras = limpaTexto(palavras)\n",
        "print('Quantidade de palavras depois da limpeza:', len(palavras))"
      ],
      "id": "BdPN7gmh52cb",
      "execution_count": null,
      "outputs": []
    }
  ]
}