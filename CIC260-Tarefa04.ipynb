{
  "nbformat": 4,
  "nbformat_minor": 5,
  "metadata": {
    "orig_nbformat": 4,
    "language_info": {
      "name": "python",
      "version": "3.7.8",
      "mimetype": "text/x-python",
      "codemirror_mode": {
        "name": "ipython",
        "version": 3
      },
      "pygments_lexer": "ipython3",
      "nbconvert_exporter": "python",
      "file_extension": ".py"
    },
    "kernelspec": {
      "name": "python3",
      "display_name": "Python 3",
      "language": "python"
    },
    "colab": {
      "name": "CIC260-Tarefa04.ipynb",
      "provenance": []
    }
  },
  "cells": [
    {
      "cell_type": "code",
      "metadata": {
        "tags": [],
        "id": "6bdd8d92-b34c-4cba-a7bd-e2478f95caf7"
      },
      "source": [
        "import nltk\n",
        "nltk.download('all')\n",
        "from nltk import word_tokenize"
      ],
      "id": "6bdd8d92-b34c-4cba-a7bd-e2478f95caf7",
      "execution_count": null,
      "outputs": []
    },
    {
      "cell_type": "code",
      "metadata": {
        "id": "AoGZyFqYAvbV"
      },
      "source": [
        "def ler(nome_arquivo):\n",
        "  arquivo = open(nome_arquivo, 'r', encoding='utf-8')\n",
        "  texto = arquivo.read()\n",
        "  arquivo.close()\n",
        "  return texto"
      ],
      "id": "AoGZyFqYAvbV",
      "execution_count": 13,
      "outputs": []
    },
    {
      "cell_type": "code",
      "metadata": {
        "id": "ZyEJHfsaCXDE"
      },
      "source": [
        "livro = ler('/marm04.txt')"
      ],
      "id": "ZyEJHfsaCXDE",
      "execution_count": 17,
      "outputs": []
    }
  ]
}
