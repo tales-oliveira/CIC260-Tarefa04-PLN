{
  "nbformat": 4,
  "nbformat_minor": 5,
  "metadata": {
    "orig_nbformat": 4,
    "language_info": {
      "name": "python",
      "version": "3.7.8",
      "mimetype": "text/x-python",
      "codemirror_mode": {
        "name": "ipython",
        "version": 3
      },
      "pygments_lexer": "ipython3",
      "nbconvert_exporter": "python",
      "file_extension": ".py"
    },
    "kernelspec": {
      "name": "python3",
      "display_name": "Python 3",
      "language": "python"
    },
    "colab": {
      "name": "CIC260-Tarefa04.ipynb",
      "provenance": []
    }
  },
  "cells": [
    {
      "cell_type": "markdown",
      "metadata": {
        "id": "qWTb8ygJSd1I"
      },
      "source": [
        "##CIC260 - Inteligência Artificial\n",
        "\n",
        "###Autor: Tales Oliveira"
      ],
      "id": "qWTb8ygJSd1I"
    },
    {
      "cell_type": "code",
      "metadata": {
        "tags": [],
        "id": "6bdd8d92-b34c-4cba-a7bd-e2478f95caf7"
      },
      "source": [
        "# Importando a biblioteca nltk e obtendo todos os seus recursos\n",
        "import nltk\n",
        "nltk.download('all')\n",
        "from nltk import word_tokenize # Utilizado para separar um texto ou sentença em palavras"
      ],
      "id": "6bdd8d92-b34c-4cba-a7bd-e2478f95caf7",
      "execution_count": null,
      "outputs": []
    },
    {
      "cell_type": "markdown",
      "metadata": {
        "id": "yAT6-efBas5z"
      },
      "source": [
        "=======================================================================================\n",
        "\n",
        "###Definindo as funções\n"
      ],
      "id": "yAT6-efBas5z"
    },
    {
      "cell_type": "code",
      "metadata": {
        "id": "AoGZyFqYAvbV"
      },
      "source": [
        "# Definindo a função para ler arquivo\n",
        "def ler(nome_arquivo):\n",
        "    arquivo = open(nome_arquivo, 'r', encoding='utf-8')\n",
        "    texto = arquivo.read()\n",
        "    arquivo.close()\n",
        "    return texto"
      ],
      "id": "AoGZyFqYAvbV",
      "execution_count": 9,
      "outputs": []
    },
    {
      "cell_type": "code",
      "metadata": {
        "id": "SbhY4NRIakys"
      },
      "source": [
        "# Definindo a função para \"limpar\" textos\n",
        "def limpaTexto(texto):\n",
        "    excluir = '.,:.;?!\"`()[]{}\\/|#$%^&*'\n",
        "\n",
        "    # Para cada caractere do texto, são removidos os que estão presentes na lista \"excluir\". Todas as letras maiúsculas passam para minúsculas.\n",
        "    auxtexto = [x.strip(excluir).lower() for x in texto] \n",
        "\n",
        "    # Retorna o texto sem os caracteres especiais\n",
        "    return [x for x in auxtexto if x.isalpha() or '-' in x]"
      ],
      "id": "SbhY4NRIakys",
      "execution_count": 10,
      "outputs": []
    },
    {
      "cell_type": "code",
      "metadata": {
        "id": "U9VbNTN7FEGn"
      },
      "source": [
        "# Definindo a função para \"limpar\" ainda mais um texto, removendo palavras consideradas vazias,\n",
        "# como artigos, advérbios, preposições, conjunções e pronomes\n",
        "palavrasVazias = nltk.corpus.stopwords.words('portuguese')\n",
        "\n",
        "def removePalavrasVazias(palavras):\n",
        "    # A lista de palavras é verificada e se alguma palavra vazia definida em \"palavrasVazias\" for encontrada, ela será removida.\n",
        "    return [palavra for palavra in palavras if palavra not in palavrasVazias]"
      ],
      "id": "U9VbNTN7FEGn",
      "execution_count": 12,
      "outputs": []
    },
    {
      "cell_type": "code",
      "metadata": {
        "id": "BlDA0IRQUWDW"
      },
      "source": [
        "from collections import defaultdict # Importar um dicionário\n",
        "\n",
        "# Função para retornar palavras e a quantidade de vezes que aparecem no texto\n",
        "def numeroOcorrencias(listaPalavras):\n",
        "    dicionario = defaultdict(int)\n",
        "    for p in listaPalavras:\n",
        "        dicionario[p] += 1\n",
        "    return dicionario"
      ],
      "id": "BlDA0IRQUWDW",
      "execution_count": 11,
      "outputs": []
    },
    {
      "cell_type": "markdown",
      "metadata": {
        "id": "w8XPSf0_arQc"
      },
      "source": [
        "======================================================================================="
      ],
      "id": "w8XPSf0_arQc"
    },
    {
      "cell_type": "code",
      "metadata": {
        "id": "ZyEJHfsaCXDE"
      },
      "source": [
        "mpbc = ler('/marm05.txt') # Lendo a obra \"Memórias Póstumas de Brás Cubas\"\n",
        "dc = ler('/marm08_1.txt') # Lendo a obra \"Dom Casmurro\""
      ],
      "id": "ZyEJHfsaCXDE",
      "execution_count": 13,
      "outputs": []
    },
    {
      "cell_type": "markdown",
      "metadata": {
        "id": "noH9O8NKTmMS"
      },
      "source": [
        "Exibir a quantidade de caracteres na obra: Memórias Póstumas de Brás Cubas"
      ],
      "id": "noH9O8NKTmMS"
    },
    {
      "cell_type": "code",
      "metadata": {
        "id": "nATTlZnATlVl",
        "colab": {
          "base_uri": "https://localhost:8080/"
        },
        "outputId": "8f41f37a-2574-40c0-9502-8719be83da3c"
      },
      "source": [
        "print('Quantidade de caracteres:', len(mpbc)) # Memórias Póstumas de Brás Cubas"
      ],
      "id": "nATTlZnATlVl",
      "execution_count": 14,
      "outputs": [
        {
          "output_type": "stream",
          "name": "stdout",
          "text": [
            "Quantidade de caracteres: 355706\n"
          ]
        }
      ]
    },
    {
      "cell_type": "markdown",
      "metadata": {
        "id": "cGz_TUoQbYIA"
      },
      "source": [
        "Separando os textos das obras em duas listas de palavras"
      ],
      "id": "cGz_TUoQbYIA"
    },
    {
      "cell_type": "code",
      "metadata": {
        "id": "O198FGagBLrE"
      },
      "source": [
        "palavrasMPBC = word_tokenize(mpbc) # Memórias Póstumas de Brás Cubas\n",
        "palavrasDC = word_tokenize(dc) # Dom Casmurro"
      ],
      "id": "O198FGagBLrE",
      "execution_count": 15,
      "outputs": []
    },
    {
      "cell_type": "markdown",
      "metadata": {
        "id": "_fV-x4VMbi12"
      },
      "source": [
        "Comparando a quantidade de palavras antes e depois de limpar o texto"
      ],
      "id": "_fV-x4VMbi12"
    },
    {
      "cell_type": "code",
      "metadata": {
        "id": "BdPN7gmh52cb",
        "colab": {
          "base_uri": "https://localhost:8080/"
        },
        "outputId": "41f50d39-fc5d-404c-d602-4d30dca8ee37"
      },
      "source": [
        "# Memórias Póstumas de Brás Cubas\n",
        "print('Quantidade de palavras antes da limpeza:', len(palavrasMPBC))\n",
        "palavrasMPBC = limpaTexto(palavrasMPBC)\n",
        "print('Quantidade de palavras depois da limpeza:', len(palavrasMPBC))\n",
        "palavrasLimpasMPBC = removePalavrasVazias(palavrasMPBC)\n",
        "print('Quantidade de palavras a remoção das vazias:', len(palavrasLimpasMPBC))\n",
        "\n",
        "# Dom Casmurro\n",
        "palavrasDC = limpaTexto(palavrasDC)\n",
        "palavrasLimpasDC = removePalavrasVazias(palavrasDC)"
      ],
      "id": "BdPN7gmh52cb",
      "execution_count": 16,
      "outputs": [
        {
          "output_type": "stream",
          "name": "stdout",
          "text": [
            "Quantidade de palavras antes da limpeza: 74149\n",
            "Quantidade de palavras depois da limpeza: 60262\n",
            "Quantidade de palavras a remoção das vazias: 32944\n"
          ]
        }
      ]
    },
    {
      "cell_type": "markdown",
      "metadata": {
        "id": "U25V6G-TOBco"
      },
      "source": [
        "Obtendo o vocabulário do texto para calcular a riqueza lexical do texto (quantidade de palavras distintas / número de palavras)"
      ],
      "id": "U25V6G-TOBco"
    },
    {
      "cell_type": "code",
      "metadata": {
        "colab": {
          "base_uri": "https://localhost:8080/"
        },
        "id": "bDwMVoiFN_oa",
        "outputId": "861919f4-08fc-40eb-8dde-dec32ccf6742"
      },
      "source": [
        "# Memórias Póstumas de Brás Cubas\n",
        "vocabularioMPBC = set(palavrasLimpasMPBC)\n",
        "print(\"Vocabulário com a remoção de palavras vazias:\", len(vocabularioMPBC))\n",
        "\n",
        "riquezaLexicalMPBC = len(vocabularioMPBC) / len(palavrasMPBC)\n",
        "print(\"Riqueza lexical do texto:\", riquezaLexicalMPBC)"
      ],
      "id": "bDwMVoiFN_oa",
      "execution_count": 17,
      "outputs": [
        {
          "output_type": "stream",
          "name": "stdout",
          "text": [
            "Vocabulário com a remoção de palavras vazias: 10262\n",
            "Riqueza lexical do texto: 0.17028973482459925\n",
            "10262\n",
            "60262\n"
          ]
        }
      ]
    },
    {
      "cell_type": "markdown",
      "metadata": {
        "id": "2vKX1YEjVgrS"
      },
      "source": [
        "Comparar as 20 palavras mais frequentes nas obras: Memórias Póstumas de Brás Cubas e Dom Casmurro"
      ],
      "id": "2vKX1YEjVgrS"
    },
    {
      "cell_type": "code",
      "metadata": {
        "id": "yEVJdLzmVsT-"
      },
      "source": [
        "# Memórias Póstumas de Brás Cubas\n",
        "pfrequentesMPBC = numeroOcorrencias(palavrasLimpasMPBC)\n",
        "maisFrequentesMPBC = sorted(pfrequentesMPBC.items(), key=lambda tupla:tupla[1], reverse=True)[:20]\n",
        "print('Palavra -> Frequência')\n",
        "print('---------------------')\n",
        "for palavra, n in maisFrequentesMPBC:\n",
        "    print(palavra, ' -> ', n)"
      ],
      "id": "yEVJdLzmVsT-",
      "execution_count": null,
      "outputs": []
    },
    {
      "cell_type": "code",
      "metadata": {
        "id": "OSCVIJuGcmfs",
        "colab": {
          "base_uri": "https://localhost:8080/"
        },
        "outputId": "4098c7f7-a99a-4d96-930a-e439315581d2"
      },
      "source": [
        "# Dom Casmurro\n",
        "pfrequentesDC = numeroOcorrencias(palavrasLimpasDC)\n",
        "maisFrequentesDC = sorted(pfrequentesDC.items(), key=lambda tupla:tupla[1], reverse=True)[:20]\n",
        "print('Palavra -> Frequência')\n",
        "print('---------------------')\n",
        "for palavra, n in maisFrequentesDC:\n",
        "    print(palavra, ' -> ', n)"
      ],
      "id": "OSCVIJuGcmfs",
      "execution_count": 23,
      "outputs": [
        {
          "output_type": "stream",
          "name": "stdout",
          "text": [
            "Palavra -> Frequência\n",
            "---------------------\n",
            "capitu  ->  341\n",
            "mãe  ->  228\n",
            "dias  ->  192\n",
            "tudo  ->  189\n",
            "capítulo  ->  188\n",
            "casa  ->  169\n",
            "ser  ->  167\n",
            "olhos  ->  163\n",
            "mim  ->  162\n",
            "josé  ->  159\n",
            "assim  ->  158\n",
            "vez  ->  147\n",
            "agora  ->  145\n",
            "ainda  ->  141\n",
            "outra  ->  138\n",
            "nada  ->  135\n",
            "disse  ->  123\n",
            "tão  ->  122\n",
            "tempo  ->  120\n",
            "padre  ->  112\n"
          ]
        }
      ]
    }
  ]
}