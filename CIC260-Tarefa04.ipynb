{
  "nbformat": 4,
  "nbformat_minor": 5,
  "metadata": {
    "orig_nbformat": 4,
    "language_info": {
      "name": "python",
      "version": "3.7.8",
      "mimetype": "text/x-python",
      "codemirror_mode": {
        "name": "ipython",
        "version": 3
      },
      "pygments_lexer": "ipython3",
      "nbconvert_exporter": "python",
      "file_extension": ".py"
    },
    "kernelspec": {
      "name": "python3",
      "display_name": "Python 3",
      "language": "python"
    },
    "colab": {
      "name": "CIC260-Tarefa04.ipynb",
      "provenance": []
    }
  },
  "cells": [
    {
      "cell_type": "markdown",
      "metadata": {
        "id": "qWTb8ygJSd1I"
      },
      "source": [
        "##CIC260 - Inteligência Artificial\n",
        "\n",
        "###Autor: Tales Oliveira"
      ],
      "id": "qWTb8ygJSd1I"
    },
    {
      "cell_type": "code",
      "metadata": {
        "tags": [],
        "id": "6bdd8d92-b34c-4cba-a7bd-e2478f95caf7"
      },
      "source": [
        "# Importando a biblioteca nltk e obtendo todos os seus recursos\n",
        "import nltk\n",
        "nltk.download('all')\n",
        "from nltk import word_tokenize # Utilizado para separar um texto ou sentença em palavras"
      ],
      "id": "6bdd8d92-b34c-4cba-a7bd-e2478f95caf7",
      "execution_count": null,
      "outputs": []
    },
    {
      "cell_type": "markdown",
      "metadata": {
        "id": "yAT6-efBas5z"
      },
      "source": [
        "=======================================================================================\n",
        "\n",
        "###Definindo as funções\n"
      ],
      "id": "yAT6-efBas5z"
    },
    {
      "cell_type": "code",
      "metadata": {
        "id": "AoGZyFqYAvbV"
      },
      "source": [
        "# Definindo a função para ler arquivo\n",
        "def ler(nome_arquivo):\n",
        "    arquivo = open(nome_arquivo, 'r', encoding='utf-8')\n",
        "    texto = arquivo.read()\n",
        "    arquivo.close()\n",
        "    return texto"
      ],
      "id": "AoGZyFqYAvbV",
      "execution_count": 113,
      "outputs": []
    },
    {
      "cell_type": "code",
      "metadata": {
        "id": "SbhY4NRIakys"
      },
      "source": [
        "# Definindo a função para \"limpar\" textos\n",
        "def limpaTexto(texto):\n",
        "    excluir = '.,:.;?!\"`()[]{}\\/|#$%^&*'\n",
        "    auxtexto = [x.strip(excluir).lower() for x in texto]\n",
        "    return [x for x in auxtexto if x.isalpha() or '-' in x]"
      ],
      "id": "SbhY4NRIakys",
      "execution_count": 114,
      "outputs": []
    },
    {
      "cell_type": "code",
      "metadata": {
        "id": "U9VbNTN7FEGn"
      },
      "source": [
        "# Definindo a função para \"limpar\" ainda mais um texto, removendo palavras consideradas vazias,\n",
        "# como artigos, advérbios, preposições, conjunções e pronomes\n",
        "palavrasVazias = nltk.corpus.stopwords.words('portuguese')\n",
        "\n",
        "def removePalavrasVazias(palavras):\n",
        "    return [palavra for palavra in palavras if palavra not in palavrasVazias]"
      ],
      "id": "U9VbNTN7FEGn",
      "execution_count": 115,
      "outputs": []
    },
    {
      "cell_type": "code",
      "metadata": {
        "id": "BlDA0IRQUWDW"
      },
      "source": [
        "# Função para retornar palavras e a quantidade de vezes que aparecem no texto\n",
        "from collections import defaultdict\n",
        "def ocorrencias(lista_palavras):\n",
        "    dicionario = defaultdict(int)\n",
        "    for p in lista_palavras:\n",
        "        dicionario[p] += 1\n",
        "    return dicionario"
      ],
      "id": "BlDA0IRQUWDW",
      "execution_count": 116,
      "outputs": []
    },
    {
      "cell_type": "markdown",
      "metadata": {
        "id": "w8XPSf0_arQc"
      },
      "source": [
        "======================================================================================="
      ],
      "id": "w8XPSf0_arQc"
    },
    {
      "cell_type": "code",
      "metadata": {
        "id": "ZyEJHfsaCXDE"
      },
      "source": [
        "mpbc = ler('/marm05.txt') # Lendo a obra \"Memórias Póstumas de Brás Cubas\"\n",
        "dc = ler('/marm08_1.txt') # Lendo a obra \"Dom Casmurro\""
      ],
      "id": "ZyEJHfsaCXDE",
      "execution_count": 117,
      "outputs": []
    },
    {
      "cell_type": "markdown",
      "metadata": {
        "id": "noH9O8NKTmMS"
      },
      "source": [
        "Exibir a quantidade de caracteres na obra: Memórias Póstumas de Brás Cubas"
      ],
      "id": "noH9O8NKTmMS"
    },
    {
      "cell_type": "code",
      "metadata": {
        "id": "nATTlZnATlVl",
        "colab": {
          "base_uri": "https://localhost:8080/"
        },
        "outputId": "165426d3-8ea6-43f7-9e6a-4cc93357bab7"
      },
      "source": [
        "print('Quantidade de caracteres:', len(mpbc)) # Memórias Póstumas de Brás Cubas"
      ],
      "id": "nATTlZnATlVl",
      "execution_count": 118,
      "outputs": [
        {
          "output_type": "stream",
          "name": "stdout",
          "text": [
            "Quantidade de caracteres: 355706\n"
          ]
        }
      ]
    },
    {
      "cell_type": "markdown",
      "metadata": {
        "id": "cGz_TUoQbYIA"
      },
      "source": [
        "Separando os textos das obras em duas listas de palavras"
      ],
      "id": "cGz_TUoQbYIA"
    },
    {
      "cell_type": "code",
      "metadata": {
        "id": "O198FGagBLrE"
      },
      "source": [
        "palavrasMPBC = word_tokenize(mpbc) # Memórias Póstumas de Brás Cubas\n",
        "palavrasDC = word_tokenize(dc) # Dom Casmurro"
      ],
      "id": "O198FGagBLrE",
      "execution_count": 119,
      "outputs": []
    },
    {
      "cell_type": "markdown",
      "metadata": {
        "id": "_fV-x4VMbi12"
      },
      "source": [
        "Comparando a quantidade de palavras antes e depois de limpar o texto"
      ],
      "id": "_fV-x4VMbi12"
    },
    {
      "cell_type": "code",
      "metadata": {
        "id": "BdPN7gmh52cb",
        "colab": {
          "base_uri": "https://localhost:8080/"
        },
        "outputId": "1b4da85a-b4ff-4b5c-b931-e7ba8d571be8"
      },
      "source": [
        "# Memórias Póstumas de Brás Cubas\n",
        "print('Quantidade de palavras antes da limpeza:', len(palavrasMPBC))\n",
        "palavrasMPBC = limpaTexto(palavrasMPBC)\n",
        "print('Quantidade de palavras depois da limpeza:', len(palavrasMPBC))\n",
        "palavrasLimpasMPBC = removePalavrasVazias(palavrasMPBC)\n",
        "print('Quantidade de palavras a remoção das vazias:', len(palavrasLimpasMPBC))\n",
        "\n",
        "# Dom Casmurro\n",
        "palavrasDC = limpaTexto(palavrasDC)\n",
        "palavrasLimpasDC = removePalavrasVazias(palavrasDC)"
      ],
      "id": "BdPN7gmh52cb",
      "execution_count": 120,
      "outputs": [
        {
          "output_type": "stream",
          "name": "stdout",
          "text": [
            "Quantidade de palavras antes da limpeza: 74149\n",
            "Quantidade de palavras depois da limpeza: 60262\n",
            "Quantidade de palavras a remoção das vazias: 32944\n"
          ]
        }
      ]
    },
    {
      "cell_type": "markdown",
      "metadata": {
        "id": "U25V6G-TOBco"
      },
      "source": [
        "Obtendo o vocabulário do texto para calcular a riqueza lexical do texto"
      ],
      "id": "U25V6G-TOBco"
    },
    {
      "cell_type": "code",
      "metadata": {
        "colab": {
          "base_uri": "https://localhost:8080/"
        },
        "id": "bDwMVoiFN_oa",
        "outputId": "f85ea1d9-558f-4fcb-ffa3-5dd3cceba216"
      },
      "source": [
        "# Memórias Póstumas de Brás Cubas\n",
        "vocabularioMPBC = set(palavrasLimpasMPBC)\n",
        "print(\"Vocabulário com a remoção de palavras vazias:\", len(vocabularioMPBC))\n",
        "\n",
        "riquezaLexicalMPBC = len(vocabularioMPBC) / len(palavrasMPBC)\n",
        "print(\"Riqueza lexical do texto:\", riquezaLexicalMPBC)\n",
        "print(len(vocabularioMPBC))\n",
        "print(len(palavrasMPBC))"
      ],
      "id": "bDwMVoiFN_oa",
      "execution_count": 121,
      "outputs": [
        {
          "output_type": "stream",
          "name": "stdout",
          "text": [
            "Vocabulário com a remoção de palavras vazias: 10262\n",
            "Riqueza lexical do texto: 0.17028973482459925\n",
            "10262\n",
            "60262\n"
          ]
        }
      ]
    },
    {
      "cell_type": "markdown",
      "metadata": {
        "id": "2vKX1YEjVgrS"
      },
      "source": [
        "Comparar as 20 palavras mais frequentes nas obras: Memórias Póstumas de Brás Cubas e Dom Casmurro"
      ],
      "id": "2vKX1YEjVgrS"
    },
    {
      "cell_type": "code",
      "metadata": {
        "colab": {
          "base_uri": "https://localhost:8080/"
        },
        "id": "yEVJdLzmVsT-",
        "outputId": "0edf83f4-0486-401f-c399-55af2a213543"
      },
      "source": [
        "# Memórias Póstumas de Brás Cubas\n",
        "pfrequentesMPBC = ocorrencias(palavrasLimpasMPBC)\n",
        "maisFrequentesMPBC = sorted(pfrequentesMPBC.items(), key=lambda tupla:tupla[1], reverse=True)[:20]\n",
        "for palavra, n in maisFrequentesMPBC:\n",
        "    print(palavra, '\\t', n)"
      ],
      "id": "yEVJdLzmVsT-",
      "execution_count": 124,
      "outputs": [
        {
          "output_type": "stream",
          "name": "stdout",
          "text": [
            "capítulo \t 209\n",
            "virgília \t 202\n",
            "coisa \t 148\n",
            "olhos \t 138\n",
            "disse \t 130\n",
            "nada \t 126\n",
            "outro \t 124\n",
            "vida \t 118\n",
            "outra \t 116\n",
            "tempo \t 114\n",
            "porque \t 113\n",
            "menos \t 112\n",
            "homem \t 108\n",
            "casa \t 107\n",
            "mim \t 100\n",
            "tudo \t 99\n",
            "pouco \t 98\n",
            "ser \t 97\n",
            "então \t 96\n",
            "tão \t 95\n"
          ]
        }
      ]
    },
    {
      "cell_type": "code",
      "metadata": {
        "id": "OSCVIJuGcmfs",
        "outputId": "52e26ec7-839e-4601-fc2b-604a2f83804e",
        "colab": {
          "base_uri": "https://localhost:8080/"
        }
      },
      "source": [
        "# Dom Casmurro\n",
        "pfrequentesDC = ocorrencias(palavrasLimpasDC)\n",
        "maisFrequentesDC = sorted(pfrequentesDC.items(), key=lambda tupla:tupla[1], reverse=True)[:20]\n",
        "for palavra, n in maisFrequentesDC:\n",
        "    print(palavra, '\\t', n)"
      ],
      "id": "OSCVIJuGcmfs",
      "execution_count": 125,
      "outputs": [
        {
          "output_type": "stream",
          "name": "stdout",
          "text": [
            "capitu \t 341\n",
            "mãe \t 228\n",
            "dias \t 192\n",
            "tudo \t 189\n",
            "capítulo \t 188\n",
            "casa \t 169\n",
            "ser \t 167\n",
            "olhos \t 163\n",
            "mim \t 162\n",
            "josé \t 159\n",
            "assim \t 158\n",
            "vez \t 147\n",
            "agora \t 145\n",
            "ainda \t 141\n",
            "outra \t 138\n",
            "nada \t 135\n",
            "disse \t 123\n",
            "tão \t 122\n",
            "tempo \t 120\n",
            "padre \t 112\n"
          ]
        }
      ]
    }
  ]
}